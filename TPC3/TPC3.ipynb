{
 "cells": [
  {
   "cell_type": "markdown",
   "id": "1cf1b437",
   "metadata": {},
   "source": [
    "## TPC3: Adivinha o número!?\n",
    "\n",
    "Desenvolve em Python o código necessário para o jogo do Adivinha o número: \n",
    "* O jogo deverá ter dois modos: o computador tenta acertar no número que o jogador pensou ou, o jogador tenta acertar no número que o computador pensou; \n",
    "* No fim, o programa deverá indicar quantas tentativas foram realizadas para chegar ao resultado;\n",
    "* O Jogo: \n",
    "    - o utilizador pensa num número entre 0 e 100;\n",
    "    - o computador tenta adivinhar indicando um número do intervalo;\n",
    "    - o utilizador indica se o número em que pensou é **maior**, **menor**, ou se o computador **acertou**;\n",
    "    - ao terminar, o programa imprime o número de tentativas que o computador teve de fazer até chegar ao número.\n",
    "\n",
    "Que conclusão podes tirar sobre o número de tentativas necessárias para um número entre 0 e 100? E se fosse entre 0 e 1000?"
   ]
  },
  {
   "cell_type": "code",
   "execution_count": 2,
   "id": "ddd78ad0",
   "metadata": {},
   "outputs": [
    {
     "name": "stdout",
     "output_type": "stream",
     "text": [
      "Vamos jogar ao jogo da adivinha!\n",
      "Este jogo tem dois modos:\n",
      "   1.Tu tentas acertar no número em que o computador está a pensar\n",
      "   2.O computador tenta acertar no número em que estás a pensar\n",
      "92\n",
      "O jogo acabou!\n",
      "Número de tentativas:1\n"
     ]
    }
   ],
   "source": [
    "#Solução do exercício TP3\n",
    "print(\"Vamos jogar ao jogo da adivinha!\")\n",
    "print(\"Este jogo tem dois modos:\")\n",
    "print(\"   1.Tu tentas acertar no número em que o computador está a pensar\")\n",
    "print(\"   2.O computador tenta acertar no número em que estás a pensar\")\n",
    "pergunta1=input(\"Modo 1 ou 2?\")\n",
    "import random\n",
    "a = int(random.randint(0,100))\n",
    "if pergunta1 == \"1\":\n",
    "    tentativas=1 \n",
    "    pergunta2=input(\"Tenta adivinhar no número em que estou a pensar de 0 a 100\")\n",
    "    b=int(pergunta2)\n",
    "    while b != a:\n",
    "      if b<a:\n",
    "         pergunta2=input(\"O número em que estou a pensar é maior\")\n",
    "         b=int(pergunta2)\n",
    "         tentativas=tentativas+1\n",
    "      if b>a:\n",
    "         pergunta2=input(\"O número em que estou a pensar é menor\")\n",
    "         b=int(pergunta2)\n",
    "         tentativas=tentativas+1\n",
    "    if b == a:\n",
    "         (\"Parabéns!Acertaste no número\")\n",
    "         print(\"Número de tentativas:\"+str(tentativas))\n",
    "if pergunta1 == \"2\":\n",
    "    print(a)\n",
    "    tentativas = 1\n",
    "    mínimo = 0\n",
    "    máximo = 1000\n",
    "    palpite=0\n",
    "    input1=input(\"Acertei? Se não, diz se o número que estás a pensar é maior ou menor?\")\n",
    "    while input1!= \"acertou\":\n",
    "      if input1==\"menor\" :       \n",
    "         máximo=a-1           \n",
    "         palpite =(random.randint(mínimo,máximo))\n",
    "         print (palpite)\n",
    "         a=int(palpite)\n",
    "         tentativas=tentativas+1\n",
    "         input1=input(\"Acertei? Se não, diz se o número que estás a pensar é maior ou menor?\")\n",
    "      if input1 == \"maior\": \n",
    "         mínimo=a+1\n",
    "         palpite =(random.randint(mínimo,máximo))\n",
    "         print (palpite)\n",
    "         a=int(palpite)   \n",
    "         tentativas=tentativas+1\n",
    "         input1=input(\"Acertei? Se não, diz se o número que estás a pensar é maior ou menor?\")\n",
    "    if input1 == \"acertou\":\n",
    "      print(\"O jogo acabou!\")\n",
    "      print(\"Número de tentativas:\"+str(tentativas))\n",
    "\n",
    "      #O número de tentativas necessárias é sempre um número perto de 10(nunca chegando às 20 tentativas),sendo o jogo da adivinha de 0 a 100 ou de 0 a 1000."
   ]
  }
 ],
 "metadata": {
  "kernelspec": {
   "display_name": "Python 3.9.7 64-bit",
   "language": "python",
   "name": "python3"
  },
  "language_info": {
   "codemirror_mode": {
    "name": "ipython",
    "version": 3
   },
   "file_extension": ".py",
   "mimetype": "text/x-python",
   "name": "python",
   "nbconvert_exporter": "python",
   "pygments_lexer": "ipython3",
   "version": "3.11.5"
  },
  "vscode": {
   "interpreter": {
    "hash": "916dbcbb3f70747c44a77c7bcd40155683ae19c65e1c03b4aa3499c5328201f1"
   }
  }
 },
 "nbformat": 4,
 "nbformat_minor": 5
}
